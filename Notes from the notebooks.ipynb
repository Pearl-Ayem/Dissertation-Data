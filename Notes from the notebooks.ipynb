{
 "cells": [
  {
   "cell_type": "markdown",
   "id": "d0868edf",
   "metadata": {},
   "source": [
    "## Notes from the analysis files"
   ]
  },
  {
   "cell_type": "markdown",
   "id": "c0f3444d",
   "metadata": {},
   "source": [
    "- Maximum daily snowmelt was observed 2021-02-10 \n",
    "    - File: Data Trends Daily Plots all years high melt analysis\n",
    "    - Command:\n",
    "`daily_data.snowmelt.where(daily_data==max_vals.snowmelt, drop=True).squeeze()`\n",
    "     - 0.0003263 \n",
    "     - rlat -2.7\n",
    "     - rlon -19.5\n",
    "     - lon -68.04\n",
    "     - lat -70.32\n",
    "    \n",
    "- When I run a command to check which dates show a daily snowmelt of greater than 180$\\mu$ (i.e the \"reds\" on the colour scale which is evenly divided between the minimum and maximum daily melt over all the years value) there are only 21 days across all the years with melt >= 180$\\mu$ --> \n",
    "<br>2016 January 1,3 (this season I haven't really considered because my data starts in 2016 so I'm missing Oct,Nov,Dec from this summer)\n",
    "<br>2017 March 20, 26\n",
    "<br>2020 January 8, 9, 11, 31\n",
    "<br>2020 February 6, 7, 8, 9, 10, 11, 12\n",
    "<br>2020 March 4 , 5\n",
    "<br>2021 February 1, 9, 10, 12\n",
    "    - File: Data Trends Daily Plots all years high melt analysis\n",
    "    - Command:\n",
    "`daily_data.snowmelt.where(daily_data.snowmelt>=0.000180, drop=True).squeeze()`\n",
    "- *additional reason for choosing 180$\\mu$ --> It is between $(\\mu + 3\\sigma)$ and $(\\mu + 4\\sigma)$ i.e higher than 99.73% of the data* \n",
    "    - File: Data Trends for high melt times\n",
    "    - Command:`q3= daily_data.snowmelt.quantile(0.9973, skipna=True)` which gives `array(0.00013049)` ($\\mu + 4\\sigma$ gives 0.00022517)\n",
    "    - When we run `daily_data.where(daily_data.snowmelt>=q3, drop=True).squeeze()` it gives 39 days of high melt whereas snowmelt>=0.000180 gives 21 days\n",
    "\n",
    "- On all of the above mentioned melt days, temperatures are very hot across the GVIIS (the map is always red)\n",
    "    - Surface pressure on 2020-02-07 is very high corresponding to lower than normal melt on the 7th itself but melt increases on the 8th especially in the Northers GVIIS region. SP remains high until the 9th and then tapers off to a lower value - melt consequently also decreases between the 9th and 12th. \n",
    "    - 2021-02-01 has abnormally low SP but low melt too"
   ]
  },
  {
   "cell_type": "markdown",
   "id": "b7ed0aa9",
   "metadata": {},
   "source": [
    "Break down analysis by:\n",
    "- High melt times as seen with RACMO\n",
    "    - what was temp, surface pressure, wind speed, wind dir, albedo, lw radiation, sw radiation, precipitation, humidity doing during these times?\n",
    "        - all of those ^ at a daily, weekly, biweekly, monthly scale\n",
    "- High melt as seen in literture\n",
    "    - what was temp, surface pressure, wind speed, wind dir, albedo, lw radiation, sw radiation, precipitation, humidity doing during these times?\n",
    "        - all of those ^ at a daily, weekly, biweekly, monthly scale"
   ]
  },
  {
   "cell_type": "markdown",
   "id": "502b40f0",
   "metadata": {},
   "source": [
    "# 2016-2017 Summer Daily\n",
    "\n",
    "## Temp Notes:\n",
    "\n",
    "- 2017-03-17 almost entire ice-shelf saw temperatures above 0\n",
    "- 2017-03-18 much smaller part of the GVIIS had temperatures avobe 0, S. GVIIS is less hot than N. GVIIS\n",
    "- 2017-03-19 had no parts of the GVIIS above 0\n",
    "- 2017-03-20 area of temperatures above 0 increased\n",
    "- 2017-03-21 almost entire ice-shelf saw temperatures above 0\n",
    "- 2017-03-23 has cooler temps and it increases overnight on 24th, continues increasing on 25th\n",
    "- 2017-03-27 has an interesting pattern where high temps are in the North and center of GVIIS\n",
    "- 2017-03-28 temperatures drop overnight - much cooler in central GVIIS\n",
    "\n",
    "- For days where high snowmelt in summer was observed, temperature trends were:\n",
    "|Mean|Median|Max|\n",
    "|:---:|:----:|:---:|\n",
    "|-1.8954286575317383|-1.4614601135253906|2.17842484|\n",
    "\n",
    "- For all the summer months daily data temperature trends were:\n",
    "|Mean|Median|Max|\n",
    "|:---:|:----:|:---:|\n",
    "|-5.774217|-4.34803772|4.24809647|\n",
    " \n",
    "\n",
    "- $\\mu + 1\\sigma$ for daily temperatures = $-2.20449829^{\\circ}C $ --> happens on 11 out of the 13 days high melt was observed\n",
    "    - File: Data Trends Daily Plots 2016-2017 Summer\n",
    "    - Command: \n",
    "    ``` \n",
    "    temp1sigma=daily_data.t2m.quantile(0.6827)\n",
    "    c=high_melt_2016_2017.where(high_melt_2016_2017.t2m>= temp1sigma, drop=True).squeeze()\n",
    "    c.time.values.size, high_melt_2016_2017.time.values.size\n",
    "    ```\n"
   ]
  },
  {
   "cell_type": "code",
   "execution_count": null,
   "id": "d539de40",
   "metadata": {},
   "outputs": [],
   "source": []
  }
 ],
 "metadata": {
  "kernelspec": {
   "display_name": "dissenv",
   "language": "python",
   "name": "dissenv"
  },
  "language_info": {
   "codemirror_mode": {
    "name": "ipython",
    "version": 3
   },
   "file_extension": ".py",
   "mimetype": "text/x-python",
   "name": "python",
   "nbconvert_exporter": "python",
   "pygments_lexer": "ipython3",
   "version": "3.10.4"
  }
 },
 "nbformat": 4,
 "nbformat_minor": 5
}
