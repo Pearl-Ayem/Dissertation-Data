{
 "cells": [
  {
   "cell_type": "code",
   "execution_count": 1,
   "id": "f31595fb",
   "metadata": {},
   "outputs": [
    {
     "name": "stderr",
     "output_type": "stream",
     "text": [
      "C:\\Users\\Pearl\\anaconda3\\envs\\dissenv\\lib\\site-packages\\pyproj\\__init__.py:89: UserWarning: pyproj unable to set database path.\n",
      "  _pyproj_global_context_initialize()\n"
     ]
    }
   ],
   "source": [
    "from pathlib import Path\n",
    "import numpy as np\n",
    "import datetime\n",
    "import netCDF4\n",
    "import xarray as xr\n",
    "import matplotlib.pyplot as plt\n",
    "import pyproj\n",
    "import cartopy.feature as cfe\n",
    "import cartopy.crs as ccrs\n",
    "import pandas as pd\n",
    "from pyproj import Transformer\n",
    "from pyproj import CRS\n",
    "import shapefile as shp\n",
    "from shapely.geometry.polygon import Polygon\n",
    "from shapely.geometry import Point\n",
    "import fiona \n",
    "import rioxarray\n",
    "import geopandas as gpd\n",
    "from shapely.geometry import mapping\n",
    "import geoplot\n",
    "from rasterio import features\n",
    "import matplotlib.colors as colors\n",
    "from numpy import ma"
   ]
  },
  {
   "cell_type": "markdown",
   "id": "8aa29392",
   "metadata": {},
   "source": [
    "# Functions"
   ]
  },
  {
   "cell_type": "code",
   "execution_count": 2,
   "id": "d0b2d7cc",
   "metadata": {},
   "outputs": [],
   "source": [
    "def plot_nearby_ice_shelves(shapefile,x_lims,y_lims):\n",
    "    \"\"\"\n",
    "    Input: \n",
    "    shapefile -> shape file (Geopandas Dataframe format),\n",
    "    x_lims -> minimum longitude and maximum longitude to search for ice shelves (Tuple)\n",
    "    y_lims -> minimum latitude and maximum latitude to search for ice shelves (Tuple)\n",
    "    \n",
    "    Output:\n",
    "    Returns a masked Geopandas Dataframe of ice shelves within the x_lims, y_lims defined\n",
    "    Plots Graph with reference numbers\n",
    "    \"\"\"\n",
    "    border = [(x_lims[0],y_lims[0]), (x_lims[1],y_lims[0]), (x_lims[1],y_lims[1]),(x_lims[0],y_lims[1])]\n",
    "    bounds_poly=Polygon(shell=border)\n",
    "    mask = shapefile['geometry'].apply(lambda x: bounds_poly.contains(x))\n",
    "    within_bounds = (shapefile[mask])\n",
    "    ax = within_bounds.plot(figsize=(12, 12))\n",
    "    within_bounds.apply(lambda x: ax.annotate(text=x['recnum'], xy=x.geometry.centroid.coords[0], ha='center'), axis=1);\n",
    "    plt.show()\n",
    "    return within_bounds\n",
    "\n",
    "def read_file_paths(filename):\n",
    "    this_dir=Path.cwd()\n",
    "    data_dir=this_dir.parent/Path(\"Data\")\n",
    "    files = data_dir.rglob(filename)\n",
    "    for i in files:\n",
    "        data = i\n",
    "    return data\n",
    "\n",
    "def one_ice_shelf_only_mask(all_is,rn):\n",
    "    \"\"\"\n",
    "    Input: \n",
    "    all_is -> Geopandas Dataframe of all ice shelves masked within a certain bound\n",
    "    recnum-> the ref id needed for one particular ice_shelf\n",
    "    Output: Geopandas Dataframe of just the one ice shelf defined by the record number rn\n",
    "    \"\"\"\n",
    "    return all_is.loc[all_is.recnum==rn]\n",
    "\n",
    "def ice_shelf_mask_rotate(ice_shelf,out_crs):\n",
    "    \"\"\"\n",
    "    Input: \n",
    "    ice_shelf -> Geopandas Dataframe of just the one ice shelf\n",
    "    out_crs-> the crs we want to convert the mask to\n",
    "    Output: Geopandas Dataframe of just the one ice shelf defined by the record number rn\n",
    "    \"\"\"\n",
    "    return ice_shelf.geometry.to_crs(data_crs)\n",
    "    \n",
    "def resample_summer(data,summer_months):\n",
    "    \"\"\"\n",
    "    Input: \n",
    "    ds -> raw data set (XArray DataSet format),\n",
    "    summer_months-> List for the years we want to filter\n",
    "    Output:\n",
    "    Returns a filtered XArray DataSet with only the summer months (Oct,Nov,Dec,Jan,Feb,Mar)\n",
    "    \"\"\"\n",
    "    d2 = data.sel(time=data.time.dt.month.isin(summer_months))\n",
    "    return d2\n",
    "\n",
    "def reduce_spatial_data(ds,x_lims,y_lims,summer_months):\n",
    "    \"\"\"\n",
    "    Input: \n",
    "    ds -> raw data set (XArray DataSet format),\n",
    "    x_lims -> minimum longitude and maximum longitude to crop (Tuple)\n",
    "    y_lims -> minimum latitude and maximum latitude to crop (Tuple)\n",
    "    summer_months-> List for the years we want to filter\n",
    "    \n",
    "    Output:\n",
    "    Returns a clipped XArray DataSet with only the summer months (Oct,Nov,Dec,Jan,Feb,Mar) and reduced space\n",
    "    \"\"\"\n",
    "        \n",
    "    summer_ds=resample_summer(ds,summer_months)\n",
    "    minx,miny,maxx,maxy= transproj.transform_bounds(min(x_lims),min(y_lims),max(x_lims),max(y_lims))\n",
    "    mask_lon = (summer_ds.rlon >= minx) & (summer_ds.rlon <= maxx)\n",
    "    mask_lat = (summer_ds.rlat >= miny) & (summer_ds.rlat <= maxy)\n",
    "    summer_ds= summer_ds.where(mask_lon & mask_lat, drop=True)\n",
    "    return summer_ds\n",
    "\n",
    "def masked_ds_only(ds_og,ds_masked,variable):\n",
    "    \"\"\"\n",
    "    ds_og -> Original XArray Dataset that is masked\n",
    "    ds_masked -> Xarray DataArray that is masked\n",
    "    variable-> Variable to include (str)\n",
    "    \"\"\"\n",
    "    ds_og=ds_og.drop_vars(variable)\n",
    "    ds_og[variable] = ds_masked\n",
    "    ds_og=ds_og.dropna(dim='rlat',how='all')\n",
    "    ds_og=ds_og.dropna(dim='rlon',how='all')\n",
    "    return ds_og\n",
    "\n",
    "def resample_bounds(data,frequency):\n",
    "    \"\"\"\n",
    "    resample data set to given frequency\n",
    "    \"\"\"\n",
    "    d2=data.resample(time=frequency).mean()\n",
    "    lat = d2['rlat'].values\n",
    "    lon = d2['rlon'].values\n",
    "    lons, lats = np.meshgrid(lon, lat)\n",
    "    return d2,lons,lats\n",
    "\n",
    "def mask_data(ds):\n",
    "    ds['v10m']=ds.v10m.rio.set_spatial_dims(x_dim='rlon', y_dim='rlat', inplace=True)\n",
    "    c=ds.v10m.rio.write_crs(data_crs).rio.clip(geometries=rotated_mask.geometry.apply(mapping),crs=data_crs,all_touched=False,drop=True,from_disk=True)\n",
    "    ds= masked_ds_only(ds,c,'v10m')\n",
    "    return ds"
   ]
  },
  {
   "cell_type": "code",
   "execution_count": 3,
   "id": "06bfb0e0",
   "metadata": {},
   "outputs": [],
   "source": [
    "file2016='v10m.KNMI-2016.XPEN055.ERA5-3H_RACMO2.3p2.3H.nc'\n",
    "file2021='v10m.KNMI-2021.XPEN055.ERA5-3H_RACMO2.3p2.3H.nc'\n",
    "shape_name='my556bx0395.shx'"
   ]
  },
  {
   "cell_type": "code",
   "execution_count": 4,
   "id": "59cda228",
   "metadata": {},
   "outputs": [],
   "source": [
    "rd_2016=xr.open_dataset(read_file_paths(file2016)) \n",
    "rd_2021=xr.open_dataset(read_file_paths(file2021)) \n",
    "antarctica_shape = gpd.read_file(read_file_paths(shape_name))"
   ]
  },
  {
   "cell_type": "code",
   "execution_count": 6,
   "id": "72be1726",
   "metadata": {},
   "outputs": [
    {
     "data": {
      "text/plain": [
       "{'Conventions': 'CF-1.4',\n",
       " 'source': 'RACMO2',\n",
       " 'Domain': 'XPEN055',\n",
       " 'Experiment': 'ERA5-3H_RACMO2.3p2',\n",
       " 'institution': 'Royal Netherlands Meteorological Institute (KNMI)',\n",
       " 'CreationDate': 'Fri Jun 18 19:37:58 2021',\n",
       " 'comment': 'asim2cdf: cpar=v10m, iwmo=34, ilvt=105, ilev=10, idh=3, ihacc=3, ihstep=3, itmode=1, ivmode=2',\n",
       " 'title': '10-m Meridional Wind Speed'}"
      ]
     },
     "execution_count": 6,
     "metadata": {},
     "output_type": "execute_result"
    }
   ],
   "source": [
    "rd_20"
   ]
  },
  {
   "cell_type": "code",
   "execution_count": 5,
   "id": "f0db006e",
   "metadata": {},
   "outputs": [],
   "source": [
    "data_crs=CRS('-m 57.295779506 +proj=ob_tran +o_proj=latlon +o_lat_p=-180.0 +lon_0=30.0 +o_lon_p=0')\n",
    "from_lat_lon_crs = CRS.from_proj4(\"+proj=latlon\")\n",
    "transproj = Transformer.from_crs(from_lat_lon_crs, data_crs)\n",
    "\n",
    "y_lim = (-75,-66) # latitude \n",
    "x_lim = (-78,-65) #longitude"
   ]
  },
  {
   "cell_type": "code",
   "execution_count": 7,
   "id": "9132fa00",
   "metadata": {},
   "outputs": [
    {
     "data": {
      "image/png": "[encoded data removed]",
      "text/plain": [
       "<Figure size 864x864 with 1 Axes>"
      ]
     },
     "metadata": {
      "needs_background": "light"
     },
     "output_type": "display_data"
    }
   ],
   "source": [
    "within_bounds=plot_nearby_ice_shelves(antarctica_shape,x_lim,y_lim)\n",
    "gviis_mask=one_ice_shelf_only_mask(within_bounds,0)\n",
    "rotated_mask=ice_shelf_mask_rotate(gviis_mask,data_crs)\n",
    "\n",
    "rd_2016=reduce_spatial_data(rd_2016,x_lim,y_lim,[1, 2, 3, 10, 11, 12])\n",
    "rd_2016=rd_2016[['v10m']]\n",
    "\n",
    "rd_2021=reduce_spatial_data(rd_2021,x_lim,y_lim,[1, 2, 3, 10, 11, 12])\n",
    "rd_2021=rd_2021[['v10m']]"
   ]
  },
  {
   "cell_type": "code",
   "execution_count": 8,
   "id": "c4e50f05",
   "metadata": {},
   "outputs": [],
   "source": [
    "rd_2016=mask_data(rd_2016)\n",
    "rd_2021=mask_data(rd_2021)"
   ]
  },
  {
   "cell_type": "code",
   "execution_count": 9,
   "id": "4cef9007",
   "metadata": {},
   "outputs": [],
   "source": [
    "v10m_data = xr.concat([rd_2016, rd_2021],'time')"
   ]
  },
  {
   "cell_type": "code",
   "execution_count": 10,
   "id": "41cc2eb7",
   "metadata": {
    "scrolled": true
   },
   "outputs": [
    {
     "data": {
      "image/png": "[encoded data removed]",
      "text/plain": [
       "<Figure size 432x288 with 1 Axes>"
      ]
     },
     "metadata": {
      "needs_background": "light"
     },
     "output_type": "display_data"
    }
   ],
   "source": [
    "faceW = 79 #number of pixels in image width\n",
    "faceH = 46 #number of pixels i|n image height\n",
    "first_map = np.reshape(np.asarray(v10m_data.v10m.isel(time=1).values),(faceH,faceW)).T\n",
    "plt.imshow(first_map)\n",
    "plt.show()"
   ]
  },
  {
   "cell_type": "code",
   "execution_count": 11,
   "id": "83ad01b9",
   "metadata": {},
   "outputs": [],
   "source": [
    "filename=v10m_data.attrs['title']+'.nc'\n",
    "this_dir=Path.cwd()\n",
    "out_path=this_dir.parent/Path(\"Data/Cleaned and masked NETCDF files\"+'/'+filename)"
   ]
  },
  {
   "cell_type": "code",
   "execution_count": 12,
   "id": "be536d0e",
   "metadata": {},
   "outputs": [
    {
     "data": {
      "text/plain": [
       "{'standard_name': 'northward_wind',\n",
       " 'long_name': '10-m Meridional Wind Speed',\n",
       " 'units': 'm s-1',\n",
       " 'cell_methods': 'time: 3-hr average of 3-hr instantaneous values',\n",
       " 'grid_mapping': 'rotated_pole'}"
      ]
     },
     "execution_count": 12,
     "metadata": {},
     "output_type": "execute_result"
    }
   ],
   "source": [
    "v10m_data.v10m.attrs"
   ]
  },
  {
   "cell_type": "code",
   "execution_count": 13,
   "id": "8cc145ed",
   "metadata": {},
   "outputs": [],
   "source": [
    "del v10m_data.v10m.attrs['grid_mapping']\n",
    "v10m_data.to_netcdf(out_path)"
   ]
  },
  {
   "cell_type": "code",
   "execution_count": null,
   "id": "fbe210eb",
   "metadata": {},
   "outputs": [],
   "source": []
  }
 ],
 "metadata": {
  "kernelspec": {
   "display_name": "dissenv",
   "language": "python",
   "name": "dissenv"
  },
  "language_info": {
   "codemirror_mode": {
    "name": "ipython",
    "version": 3
   },
   "file_extension": ".py",
   "mimetype": "text/x-python",
   "name": "python",
   "nbconvert_exporter": "python",
   "pygments_lexer": "ipython3",
   "version": "3.10.4"
  }
 },
 "nbformat": 4,
 "nbformat_minor": 5
}
