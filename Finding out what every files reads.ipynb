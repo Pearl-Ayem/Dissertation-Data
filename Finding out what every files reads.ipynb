{
 "cells": [
  {
   "cell_type": "code",
   "execution_count": 1,
   "id": "1d951e83",
   "metadata": {},
   "outputs": [],
   "source": [
    "from pathlib import Path\n",
    "import netCDF4\n",
    "import xarray as xr\n",
    "import re"
   ]
  },
  {
   "cell_type": "code",
   "execution_count": 2,
   "id": "df7e10e8",
   "metadata": {},
   "outputs": [],
   "source": [
    "# this_dir=Path.cwd()\n",
    "# data_dir=this_dir.parent/Path(\"Data\\\\2021 Sample Data\")\n",
    "# files = data_dir.rglob(\"*.nc\")\n",
    "# files = list(files)\n",
    "\n",
    "# acc=[]\n",
    "# for f in files:\n",
    "#     name=re.search(r'Sample Data\\\\(.*?)\\.', str(f)).group(1)\n",
    "#     i = xr.open_dataset(f)\n",
    "#     longname=i.attrs['title']\n",
    "#     acc.append((name,longname))\n",
    "#     i.close()\n",
    "# acc  "
   ]
  },
  {
   "cell_type": "code",
   "execution_count": 3,
   "id": "3baa1a9c",
   "metadata": {},
   "outputs": [],
   "source": [
    "# files"
   ]
  },
  {
   "cell_type": "code",
   "execution_count": 6,
   "id": "577e308d",
   "metadata": {},
   "outputs": [
    {
     "data": {
      "text/plain": [
       "[('evap', 'Evaporative Flux'),\n",
       " ('ff10m', '10-m Wind Speed'),\n",
       " ('precip', 'Total Precipitative Flux'),\n",
       " ('psurf', 'Surface Pressure'),\n",
       " ('q2m', '2-m Specific Humidity'),\n",
       " ('rh2m', '2-m Relative Humidity'),\n",
       " ('sndiv', 'Snowdrift horizontal transport divergence'),\n",
       " ('snowfall', 'Solid Precipitative Flux'),\n",
       " ('snowmelt', 'Snow Melt Flux'),\n",
       " ('subl', 'Sublimation Flux'),\n",
       " ('t2m', '2-m Temperature'),\n",
       " ('tskin', 'Skin temperature'),\n",
       " ('u10m', '10-m Zonal Wind Speed'),\n",
       " ('v10m', '10-m Meridional Wind Speed')]"
      ]
     },
     "execution_count": 6,
     "metadata": {},
     "output_type": "execute_result"
    }
   ],
   "source": [
    "this_dir=Path.cwd()\n",
    "data_dir=this_dir.parent/Path(\"Data\\\\2016 Sample Data\")\n",
    "files = data_dir.rglob(\"*.nc\")\n",
    "files = list(files)\n",
    "\n",
    "acc=[]\n",
    "for f in files:\n",
    "    name=re.search(r'Sample Data\\\\(.*?)\\.', str(f)).group(1)\n",
    "    i = xr.open_dataset(f)\n",
    "    longname=i.attrs['title']\n",
    "    acc.append((name,longname))\n",
    "    i.close()\n",
    "acc "
   ]
  },
  {
   "cell_type": "code",
   "execution_count": 8,
   "id": "f4172354",
   "metadata": {},
   "outputs": [
    {
     "data": {
      "text/plain": [
       "[WindowsPath('D:/Diss/Data/2016 Sample Data/evap.KNMI-2016.XPEN055.ERA5-3H_RACMO2.3p2.3H.nc'),\n",
       " WindowsPath('D:/Diss/Data/2016 Sample Data/ff10m.KNMI-2016.XPEN055.ERA5-3H_RACMO2.3p2.3H.nc'),\n",
       " WindowsPath('D:/Diss/Data/2016 Sample Data/precip.KNMI-2016.XPEN055.ERA5-3H_RACMO2.3p2.3H.nc'),\n",
       " WindowsPath('D:/Diss/Data/2016 Sample Data/psurf.KNMI-2016.XPEN055.ERA5-3H_RACMO2.3p2.3H.nc'),\n",
       " WindowsPath('D:/Diss/Data/2016 Sample Data/q2m.KNMI-2016.XPEN055.ERA5-3H_RACMO2.3p2.3H.nc'),\n",
       " WindowsPath('D:/Diss/Data/2016 Sample Data/rh2m.KNMI-2016.XPEN055.ERA5-3H_RACMO2.3p2.3H.nc'),\n",
       " WindowsPath('D:/Diss/Data/2016 Sample Data/sndiv.KNMI-2016.XPEN055.ERA5-3H_RACMO2.3p2.3H.nc'),\n",
       " WindowsPath('D:/Diss/Data/2016 Sample Data/snowfall.KNMI-2016.XPEN055.ERA5-3H_RACMO2.3p2.3H.nc'),\n",
       " WindowsPath('D:/Diss/Data/2016 Sample Data/snowmelt.KNMI-2016.XPEN055.ERA5-3H_RACMO2.3p2.3H.nc'),\n",
       " WindowsPath('D:/Diss/Data/2016 Sample Data/subl.KNMI-2016.XPEN055.ERA5-3H_RACMO2.3p2.3H.nc'),\n",
       " WindowsPath('D:/Diss/Data/2016 Sample Data/t2m.KNMI-2016.XPEN055.ERA5-3H_RACMO2.3p2.3H.nc'),\n",
       " WindowsPath('D:/Diss/Data/2016 Sample Data/tskin.KNMI-2016.XPEN055.ERA5-3H_RACMO2.3p2.3H.nc'),\n",
       " WindowsPath('D:/Diss/Data/2016 Sample Data/u10m.KNMI-2016.XPEN055.ERA5-3H_RACMO2.3p2.3H.nc'),\n",
       " WindowsPath('D:/Diss/Data/2016 Sample Data/v10m.KNMI-2016.XPEN055.ERA5-3H_RACMO2.3p2.3H.nc')]"
      ]
     },
     "execution_count": 8,
     "metadata": {},
     "output_type": "execute_result"
    }
   ],
   "source": [
    "files"
   ]
  },
  {
   "cell_type": "code",
   "execution_count": null,
   "id": "73d48d2f",
   "metadata": {},
   "outputs": [],
   "source": [
    "files"
   ]
  },
  {
   "cell_type": "code",
   "execution_count": null,
   "id": "fc2574af",
   "metadata": {},
   "outputs": [],
   "source": [
    "acc"
   ]
  }
 ],
 "metadata": {
  "kernelspec": {
   "display_name": "dissenv",
   "language": "python",
   "name": "dissenv"
  },
  "language_info": {
   "codemirror_mode": {
    "name": "ipython",
    "version": 3
   },
   "file_extension": ".py",
   "mimetype": "text/x-python",
   "name": "python",
   "nbconvert_exporter": "python",
   "pygments_lexer": "ipython3",
   "version": "3.10.4"
  }
 },
 "nbformat": 4,
 "nbformat_minor": 5
}
