{
 "cells": [
  {
   "cell_type": "code",
   "execution_count": 1,
   "id": "f31595fb",
   "metadata": {},
   "outputs": [
    {
     "name": "stderr",
     "output_type": "stream",
     "text": [
      "C:\\Users\\Pearl\\anaconda3\\envs\\dissenv\\lib\\site-packages\\pyproj\\__init__.py:89: UserWarning: pyproj unable to set database path.\n",
      "  _pyproj_global_context_initialize()\n"
     ]
    }
   ],
   "source": [
    "from pathlib import Path\n",
    "import numpy as np\n",
    "import datetime\n",
    "import netCDF4\n",
    "import xarray as xr\n",
    "import matplotlib.pyplot as plt\n",
    "import pyproj\n",
    "import cartopy.feature as cfe\n",
    "import cartopy.crs as ccrs\n",
    "import pandas as pd\n",
    "from pyproj import Transformer\n",
    "from pyproj import CRS\n",
    "import shapefile as shp\n",
    "from shapely.geometry.polygon import Polygon\n",
    "from shapely.geometry import Point\n",
    "import fiona \n",
    "import rioxarray\n",
    "import geopandas as gpd\n",
    "from shapely.geometry import mapping\n",
    "import geoplot\n",
    "from rasterio import features\n",
    "import matplotlib.colors as colors\n",
    "from numpy import ma"
   ]
  },
  {
   "cell_type": "markdown",
   "id": "8aa29392",
   "metadata": {},
   "source": [
    "# Functions"
   ]
  },
  {
   "cell_type": "code",
   "execution_count": 2,
   "id": "d0b2d7cc",
   "metadata": {},
   "outputs": [],
   "source": [
    "def plot_nearby_ice_shelves(shapefile,x_lims,y_lims):\n",
    "    \"\"\"\n",
    "    Input: \n",
    "    shapefile -> shape file (Geopandas Dataframe format),\n",
    "    x_lims -> minimum longitude and maximum longitude to search for ice shelves (Tuple)\n",
    "    y_lims -> minimum latitude and maximum latitude to search for ice shelves (Tuple)\n",
    "    \n",
    "    Output:\n",
    "    Returns a masked Geopandas Dataframe of ice shelves within the x_lims, y_lims defined\n",
    "    Plots Graph with reference numbers\n",
    "    \"\"\"\n",
    "    border = [(x_lims[0],y_lims[0]), (x_lims[1],y_lims[0]), (x_lims[1],y_lims[1]),(x_lims[0],y_lims[1])]\n",
    "    bounds_poly=Polygon(shell=border)\n",
    "    mask = shapefile['geometry'].apply(lambda x: bounds_poly.contains(x))\n",
    "    within_bounds = (shapefile[mask])\n",
    "    ax = within_bounds.plot(figsize=(12, 12))\n",
    "    within_bounds.apply(lambda x: ax.annotate(text=x['recnum'], xy=x.geometry.centroid.coords[0], ha='center'), axis=1);\n",
    "    plt.show()\n",
    "    return within_bounds\n",
    "\n",
    "def read_file_paths(filename):\n",
    "    this_dir=Path.cwd()\n",
    "    data_dir=this_dir.parent/Path(\"Data\")\n",
    "    files = data_dir.rglob(filename)\n",
    "    for i in files:\n",
    "        data = i\n",
    "    return data\n",
    "\n",
    "def one_ice_shelf_only_mask(all_is,rn):\n",
    "    \"\"\"\n",
    "    Input: \n",
    "    all_is -> Geopandas Dataframe of all ice shelves masked within a certain bound\n",
    "    recnum-> the ref id needed for one particular ice_shelf\n",
    "    Output: Geopandas Dataframe of just the one ice shelf defined by the record number rn\n",
    "    \"\"\"\n",
    "    return all_is.loc[all_is.recnum==rn]\n",
    "\n",
    "def ice_shelf_mask_rotate(ice_shelf,out_crs):\n",
    "    \"\"\"\n",
    "    Input: \n",
    "    ice_shelf -> Geopandas Dataframe of just the one ice shelf\n",
    "    out_crs-> the crs we want to convert the mask to\n",
    "    Output: Geopandas Dataframe of just the one ice shelf defined by the record number rn\n",
    "    \"\"\"\n",
    "    return ice_shelf.geometry.to_crs(data_crs)\n",
    "    \n",
    "def resample_summer(data,summer_months):\n",
    "    \"\"\"\n",
    "    Input: \n",
    "    ds -> raw data set (XArray DataSet format),\n",
    "    summer_months-> List for the years we want to filter\n",
    "    Output:\n",
    "    Returns a filtered XArray DataSet with only the summer months (Oct,Nov,Dec,Jan,Feb,Mar)\n",
    "    \"\"\"\n",
    "    d2 = data.sel(time=data.time.dt.month.isin(summer_months))\n",
    "    return d2\n",
    "\n",
    "def reduce_spatial_data(ds,x_lims,y_lims,summer_months):\n",
    "    \"\"\"\n",
    "    Input: \n",
    "    ds -> raw data set (XArray DataSet format),\n",
    "    x_lims -> minimum longitude and maximum longitude to crop (Tuple)\n",
    "    y_lims -> minimum latitude and maximum latitude to crop (Tuple)\n",
    "    summer_months-> List for the years we want to filter\n",
    "    \n",
    "    Output:\n",
    "    Returns a clipped XArray DataSet with only the summer months (Oct,Nov,Dec,Jan,Feb,Mar) and reduced space\n",
    "    \"\"\"\n",
    "        \n",
    "    summer_ds=resample_summer(ds,summer_months)\n",
    "    minx,miny,maxx,maxy= transproj.transform_bounds(min(x_lims),min(y_lims),max(x_lims),max(y_lims))\n",
    "    mask_lon = (summer_ds.rlon >= minx) & (summer_ds.rlon <= maxx)\n",
    "    mask_lat = (summer_ds.rlat >= miny) & (summer_ds.rlat <= maxy)\n",
    "    summer_ds= summer_ds.where(mask_lon & mask_lat, drop=True)\n",
    "    return summer_ds\n",
    "\n",
    "def masked_ds_only(ds_og,ds_masked,variable):\n",
    "    \"\"\"\n",
    "    ds_og -> Original XArray Dataset that is masked\n",
    "    ds_masked -> Xarray DataArray that is masked\n",
    "    variable-> Variable to include (str)\n",
    "    \"\"\"\n",
    "    ds_og=ds_og.drop_vars(variable)\n",
    "    ds_og[variable] = ds_masked\n",
    "    ds_og=ds_og.dropna(dim='rlat',how='all')\n",
    "    ds_og=ds_og.dropna(dim='rlon',how='all')\n",
    "    return ds_og\n",
    "\n",
    "def resample_bounds(data,frequency):\n",
    "    \"\"\"\n",
    "    resample data set to given frequency\n",
    "    \"\"\"\n",
    "    d2=data.resample(time=frequency).mean()\n",
    "    lat = d2['rlat'].values\n",
    "    lon = d2['rlon'].values\n",
    "    lons, lats = np.meshgrid(lon, lat)\n",
    "    return d2,lons,lats\n",
    "\n",
    "def mask_data(ds):\n",
    "    ds['v10m']=ds.v10m.rio.set_spatial_dims(x_dim='rlon', y_dim='rlat', inplace=True)\n",
    "    c=ds.v10m.rio.write_crs(data_crs).rio.clip(geometries=rotated_mask.geometry.apply(mapping),crs=data_crs,all_touched=False,drop=True,from_disk=True)\n",
    "    ds= masked_ds_only(ds,c,'v10m')\n",
    "    return ds"
   ]
  },
  {
   "cell_type": "code",
   "execution_count": 3,
   "id": "06bfb0e0",
   "metadata": {},
   "outputs": [],
   "source": [
    "file2016='v10m.KNMI-2016.XPEN055.ERA5-3H_RACMO2.3p2.3H.nc'\n",
    "file2021='v10m.KNMI-2021.XPEN055.ERA5-3H_RACMO2.3p2.3H.nc'\n",
    "shape_name='my556bx0395.shx'"
   ]
  },
  {
   "cell_type": "code",
   "execution_count": 4,
   "id": "59cda228",
   "metadata": {},
   "outputs": [
    {
     "ename": "OSError",
     "evalue": "[Errno -101] NetCDF: HDF error: b'D:\\\\Diss\\\\Data\\\\2016 Sample Data\\\\v10m.KNMI-2016.XPEN055.ERA5-3H_RACMO2.3p2.3H.nc'",
     "output_type": "error",
     "traceback": [
      "\u001b[1;31m---------------------------------------------------------------------------\u001b[0m",
      "\u001b[1;31mKeyError\u001b[0m                                  Traceback (most recent call last)",
      "File \u001b[1;32m~\\anaconda3\\envs\\dissenv\\lib\\site-packages\\xarray\\backends\\file_manager.py:199\u001b[0m, in \u001b[0;36mCachingFileManager._acquire_with_cache_info\u001b[1;34m(self, needs_lock)\u001b[0m\n\u001b[0;32m    198\u001b[0m \u001b[38;5;28;01mtry\u001b[39;00m:\n\u001b[1;32m--> 199\u001b[0m     file \u001b[38;5;241m=\u001b[39m \u001b[38;5;28;43mself\u001b[39;49m\u001b[38;5;241;43m.\u001b[39;49m\u001b[43m_cache\u001b[49m\u001b[43m[\u001b[49m\u001b[38;5;28;43mself\u001b[39;49m\u001b[38;5;241;43m.\u001b[39;49m\u001b[43m_key\u001b[49m\u001b[43m]\u001b[49m\n\u001b[0;32m    200\u001b[0m \u001b[38;5;28;01mexcept\u001b[39;00m \u001b[38;5;167;01mKeyError\u001b[39;00m:\n",
      "File \u001b[1;32m~\\anaconda3\\envs\\dissenv\\lib\\site-packages\\xarray\\backends\\lru_cache.py:53\u001b[0m, in \u001b[0;36mLRUCache.__getitem__\u001b[1;34m(self, key)\u001b[0m\n\u001b[0;32m     52\u001b[0m \u001b[38;5;28;01mwith\u001b[39;00m \u001b[38;5;28mself\u001b[39m\u001b[38;5;241m.\u001b[39m_lock:\n\u001b[1;32m---> 53\u001b[0m     value \u001b[38;5;241m=\u001b[39m \u001b[38;5;28;43mself\u001b[39;49m\u001b[38;5;241;43m.\u001b[39;49m\u001b[43m_cache\u001b[49m\u001b[43m[\u001b[49m\u001b[43mkey\u001b[49m\u001b[43m]\u001b[49m\n\u001b[0;32m     54\u001b[0m     \u001b[38;5;28mself\u001b[39m\u001b[38;5;241m.\u001b[39m_cache\u001b[38;5;241m.\u001b[39mmove_to_end(key)\n",
      "\u001b[1;31mKeyError\u001b[0m: [<class 'netCDF4._netCDF4.Dataset'>, ('D:\\\\Diss\\\\Data\\\\2016 Sample Data\\\\v10m.KNMI-2016.XPEN055.ERA5-3H_RACMO2.3p2.3H.nc',), 'r', (('clobber', True), ('diskless', False), ('format', 'NETCDF4'), ('persist', False))]",
      "\nDuring handling of the above exception, another exception occurred:\n",
      "\u001b[1;31mOSError\u001b[0m                                   Traceback (most recent call last)",
      "Input \u001b[1;32mIn [4]\u001b[0m, in \u001b[0;36m<cell line: 1>\u001b[1;34m()\u001b[0m\n\u001b[1;32m----> 1\u001b[0m rd_2016\u001b[38;5;241m=\u001b[39m\u001b[43mxr\u001b[49m\u001b[38;5;241;43m.\u001b[39;49m\u001b[43mopen_dataset\u001b[49m\u001b[43m(\u001b[49m\u001b[43mread_file_paths\u001b[49m\u001b[43m(\u001b[49m\u001b[43mfile2016\u001b[49m\u001b[43m)\u001b[49m\u001b[43m)\u001b[49m \n\u001b[0;32m      2\u001b[0m rd_2021\u001b[38;5;241m=\u001b[39mxr\u001b[38;5;241m.\u001b[39mopen_dataset(read_file_paths(file2021)) \n\u001b[0;32m      3\u001b[0m antarctica_shape \u001b[38;5;241m=\u001b[39m gpd\u001b[38;5;241m.\u001b[39mread_file(read_file_paths(shape_name))\n",
      "File \u001b[1;32m~\\anaconda3\\envs\\dissenv\\lib\\site-packages\\xarray\\backends\\api.py:495\u001b[0m, in \u001b[0;36mopen_dataset\u001b[1;34m(filename_or_obj, engine, chunks, cache, decode_cf, mask_and_scale, decode_times, decode_timedelta, use_cftime, concat_characters, decode_coords, drop_variables, backend_kwargs, *args, **kwargs)\u001b[0m\n\u001b[0;32m    483\u001b[0m decoders \u001b[38;5;241m=\u001b[39m _resolve_decoders_kwargs(\n\u001b[0;32m    484\u001b[0m     decode_cf,\n\u001b[0;32m    485\u001b[0m     open_backend_dataset_parameters\u001b[38;5;241m=\u001b[39mbackend\u001b[38;5;241m.\u001b[39mopen_dataset_parameters,\n\u001b[1;32m   (...)\u001b[0m\n\u001b[0;32m    491\u001b[0m     decode_coords\u001b[38;5;241m=\u001b[39mdecode_coords,\n\u001b[0;32m    492\u001b[0m )\n\u001b[0;32m    494\u001b[0m overwrite_encoded_chunks \u001b[38;5;241m=\u001b[39m kwargs\u001b[38;5;241m.\u001b[39mpop(\u001b[38;5;124m\"\u001b[39m\u001b[38;5;124moverwrite_encoded_chunks\u001b[39m\u001b[38;5;124m\"\u001b[39m, \u001b[38;5;28;01mNone\u001b[39;00m)\n\u001b[1;32m--> 495\u001b[0m backend_ds \u001b[38;5;241m=\u001b[39m backend\u001b[38;5;241m.\u001b[39mopen_dataset(\n\u001b[0;32m    496\u001b[0m     filename_or_obj,\n\u001b[0;32m    497\u001b[0m     drop_variables\u001b[38;5;241m=\u001b[39mdrop_variables,\n\u001b[0;32m    498\u001b[0m     \u001b[38;5;241m*\u001b[39m\u001b[38;5;241m*\u001b[39mdecoders,\n\u001b[0;32m    499\u001b[0m     \u001b[38;5;241m*\u001b[39m\u001b[38;5;241m*\u001b[39mkwargs,\n\u001b[0;32m    500\u001b[0m )\n\u001b[0;32m    501\u001b[0m ds \u001b[38;5;241m=\u001b[39m _dataset_from_backend_dataset(\n\u001b[0;32m    502\u001b[0m     backend_ds,\n\u001b[0;32m    503\u001b[0m     filename_or_obj,\n\u001b[1;32m   (...)\u001b[0m\n\u001b[0;32m    510\u001b[0m     \u001b[38;5;241m*\u001b[39m\u001b[38;5;241m*\u001b[39mkwargs,\n\u001b[0;32m    511\u001b[0m )\n\u001b[0;32m    512\u001b[0m \u001b[38;5;28;01mreturn\u001b[39;00m ds\n",
      "File \u001b[1;32m~\\anaconda3\\envs\\dissenv\\lib\\site-packages\\xarray\\backends\\netCDF4_.py:550\u001b[0m, in \u001b[0;36mNetCDF4BackendEntrypoint.open_dataset\u001b[1;34m(self, filename_or_obj, mask_and_scale, decode_times, concat_characters, decode_coords, drop_variables, use_cftime, decode_timedelta, group, mode, format, clobber, diskless, persist, lock, autoclose)\u001b[0m\n\u001b[0;32m    529\u001b[0m \u001b[38;5;28;01mdef\u001b[39;00m \u001b[38;5;21mopen_dataset\u001b[39m(\n\u001b[0;32m    530\u001b[0m     \u001b[38;5;28mself\u001b[39m,\n\u001b[0;32m    531\u001b[0m     filename_or_obj,\n\u001b[1;32m   (...)\u001b[0m\n\u001b[0;32m    546\u001b[0m     autoclose\u001b[38;5;241m=\u001b[39m\u001b[38;5;28;01mFalse\u001b[39;00m,\n\u001b[0;32m    547\u001b[0m ):\n\u001b[0;32m    549\u001b[0m     filename_or_obj \u001b[38;5;241m=\u001b[39m _normalize_path(filename_or_obj)\n\u001b[1;32m--> 550\u001b[0m     store \u001b[38;5;241m=\u001b[39m \u001b[43mNetCDF4DataStore\u001b[49m\u001b[38;5;241;43m.\u001b[39;49m\u001b[43mopen\u001b[49m\u001b[43m(\u001b[49m\n\u001b[0;32m    551\u001b[0m \u001b[43m        \u001b[49m\u001b[43mfilename_or_obj\u001b[49m\u001b[43m,\u001b[49m\n\u001b[0;32m    552\u001b[0m \u001b[43m        \u001b[49m\u001b[43mmode\u001b[49m\u001b[38;5;241;43m=\u001b[39;49m\u001b[43mmode\u001b[49m\u001b[43m,\u001b[49m\n\u001b[0;32m    553\u001b[0m \u001b[43m        \u001b[49m\u001b[38;5;28;43mformat\u001b[39;49m\u001b[38;5;241;43m=\u001b[39;49m\u001b[38;5;28;43mformat\u001b[39;49m\u001b[43m,\u001b[49m\n\u001b[0;32m    554\u001b[0m \u001b[43m        \u001b[49m\u001b[43mgroup\u001b[49m\u001b[38;5;241;43m=\u001b[39;49m\u001b[43mgroup\u001b[49m\u001b[43m,\u001b[49m\n\u001b[0;32m    555\u001b[0m \u001b[43m        \u001b[49m\u001b[43mclobber\u001b[49m\u001b[38;5;241;43m=\u001b[39;49m\u001b[43mclobber\u001b[49m\u001b[43m,\u001b[49m\n\u001b[0;32m    556\u001b[0m \u001b[43m        \u001b[49m\u001b[43mdiskless\u001b[49m\u001b[38;5;241;43m=\u001b[39;49m\u001b[43mdiskless\u001b[49m\u001b[43m,\u001b[49m\n\u001b[0;32m    557\u001b[0m \u001b[43m        \u001b[49m\u001b[43mpersist\u001b[49m\u001b[38;5;241;43m=\u001b[39;49m\u001b[43mpersist\u001b[49m\u001b[43m,\u001b[49m\n\u001b[0;32m    558\u001b[0m \u001b[43m        \u001b[49m\u001b[43mlock\u001b[49m\u001b[38;5;241;43m=\u001b[39;49m\u001b[43mlock\u001b[49m\u001b[43m,\u001b[49m\n\u001b[0;32m    559\u001b[0m \u001b[43m        \u001b[49m\u001b[43mautoclose\u001b[49m\u001b[38;5;241;43m=\u001b[39;49m\u001b[43mautoclose\u001b[49m\u001b[43m,\u001b[49m\n\u001b[0;32m    560\u001b[0m \u001b[43m    \u001b[49m\u001b[43m)\u001b[49m\n\u001b[0;32m    562\u001b[0m     store_entrypoint \u001b[38;5;241m=\u001b[39m StoreBackendEntrypoint()\n\u001b[0;32m    563\u001b[0m     \u001b[38;5;28;01mwith\u001b[39;00m close_on_error(store):\n",
      "File \u001b[1;32m~\\anaconda3\\envs\\dissenv\\lib\\site-packages\\xarray\\backends\\netCDF4_.py:379\u001b[0m, in \u001b[0;36mNetCDF4DataStore.open\u001b[1;34m(cls, filename, mode, format, group, clobber, diskless, persist, lock, lock_maker, autoclose)\u001b[0m\n\u001b[0;32m    373\u001b[0m kwargs \u001b[38;5;241m=\u001b[39m \u001b[38;5;28mdict\u001b[39m(\n\u001b[0;32m    374\u001b[0m     clobber\u001b[38;5;241m=\u001b[39mclobber, diskless\u001b[38;5;241m=\u001b[39mdiskless, persist\u001b[38;5;241m=\u001b[39mpersist, \u001b[38;5;28mformat\u001b[39m\u001b[38;5;241m=\u001b[39m\u001b[38;5;28mformat\u001b[39m\n\u001b[0;32m    375\u001b[0m )\n\u001b[0;32m    376\u001b[0m manager \u001b[38;5;241m=\u001b[39m CachingFileManager(\n\u001b[0;32m    377\u001b[0m     netCDF4\u001b[38;5;241m.\u001b[39mDataset, filename, mode\u001b[38;5;241m=\u001b[39mmode, kwargs\u001b[38;5;241m=\u001b[39mkwargs\n\u001b[0;32m    378\u001b[0m )\n\u001b[1;32m--> 379\u001b[0m \u001b[38;5;28;01mreturn\u001b[39;00m \u001b[38;5;28;43mcls\u001b[39;49m\u001b[43m(\u001b[49m\u001b[43mmanager\u001b[49m\u001b[43m,\u001b[49m\u001b[43m \u001b[49m\u001b[43mgroup\u001b[49m\u001b[38;5;241;43m=\u001b[39;49m\u001b[43mgroup\u001b[49m\u001b[43m,\u001b[49m\u001b[43m \u001b[49m\u001b[43mmode\u001b[49m\u001b[38;5;241;43m=\u001b[39;49m\u001b[43mmode\u001b[49m\u001b[43m,\u001b[49m\u001b[43m \u001b[49m\u001b[43mlock\u001b[49m\u001b[38;5;241;43m=\u001b[39;49m\u001b[43mlock\u001b[49m\u001b[43m,\u001b[49m\u001b[43m \u001b[49m\u001b[43mautoclose\u001b[49m\u001b[38;5;241;43m=\u001b[39;49m\u001b[43mautoclose\u001b[49m\u001b[43m)\u001b[49m\n",
      "File \u001b[1;32m~\\anaconda3\\envs\\dissenv\\lib\\site-packages\\xarray\\backends\\netCDF4_.py:327\u001b[0m, in \u001b[0;36mNetCDF4DataStore.__init__\u001b[1;34m(self, manager, group, mode, lock, autoclose)\u001b[0m\n\u001b[0;32m    325\u001b[0m \u001b[38;5;28mself\u001b[39m\u001b[38;5;241m.\u001b[39m_group \u001b[38;5;241m=\u001b[39m group\n\u001b[0;32m    326\u001b[0m \u001b[38;5;28mself\u001b[39m\u001b[38;5;241m.\u001b[39m_mode \u001b[38;5;241m=\u001b[39m mode\n\u001b[1;32m--> 327\u001b[0m \u001b[38;5;28mself\u001b[39m\u001b[38;5;241m.\u001b[39mformat \u001b[38;5;241m=\u001b[39m \u001b[38;5;28;43mself\u001b[39;49m\u001b[38;5;241;43m.\u001b[39;49m\u001b[43mds\u001b[49m\u001b[38;5;241m.\u001b[39mdata_model\n\u001b[0;32m    328\u001b[0m \u001b[38;5;28mself\u001b[39m\u001b[38;5;241m.\u001b[39m_filename \u001b[38;5;241m=\u001b[39m \u001b[38;5;28mself\u001b[39m\u001b[38;5;241m.\u001b[39mds\u001b[38;5;241m.\u001b[39mfilepath()\n\u001b[0;32m    329\u001b[0m \u001b[38;5;28mself\u001b[39m\u001b[38;5;241m.\u001b[39mis_remote \u001b[38;5;241m=\u001b[39m is_remote_uri(\u001b[38;5;28mself\u001b[39m\u001b[38;5;241m.\u001b[39m_filename)\n",
      "File \u001b[1;32m~\\anaconda3\\envs\\dissenv\\lib\\site-packages\\xarray\\backends\\netCDF4_.py:388\u001b[0m, in \u001b[0;36mNetCDF4DataStore.ds\u001b[1;34m(self)\u001b[0m\n\u001b[0;32m    386\u001b[0m \u001b[38;5;129m@property\u001b[39m\n\u001b[0;32m    387\u001b[0m \u001b[38;5;28;01mdef\u001b[39;00m \u001b[38;5;21mds\u001b[39m(\u001b[38;5;28mself\u001b[39m):\n\u001b[1;32m--> 388\u001b[0m     \u001b[38;5;28;01mreturn\u001b[39;00m \u001b[38;5;28;43mself\u001b[39;49m\u001b[38;5;241;43m.\u001b[39;49m\u001b[43m_acquire\u001b[49m\u001b[43m(\u001b[49m\u001b[43m)\u001b[49m\n",
      "File \u001b[1;32m~\\anaconda3\\envs\\dissenv\\lib\\site-packages\\xarray\\backends\\netCDF4_.py:382\u001b[0m, in \u001b[0;36mNetCDF4DataStore._acquire\u001b[1;34m(self, needs_lock)\u001b[0m\n\u001b[0;32m    381\u001b[0m \u001b[38;5;28;01mdef\u001b[39;00m \u001b[38;5;21m_acquire\u001b[39m(\u001b[38;5;28mself\u001b[39m, needs_lock\u001b[38;5;241m=\u001b[39m\u001b[38;5;28;01mTrue\u001b[39;00m):\n\u001b[1;32m--> 382\u001b[0m     \u001b[38;5;28;01mwith\u001b[39;00m \u001b[38;5;28mself\u001b[39m\u001b[38;5;241m.\u001b[39m_manager\u001b[38;5;241m.\u001b[39macquire_context(needs_lock) \u001b[38;5;28;01mas\u001b[39;00m root:\n\u001b[0;32m    383\u001b[0m         ds \u001b[38;5;241m=\u001b[39m _nc4_require_group(root, \u001b[38;5;28mself\u001b[39m\u001b[38;5;241m.\u001b[39m_group, \u001b[38;5;28mself\u001b[39m\u001b[38;5;241m.\u001b[39m_mode)\n\u001b[0;32m    384\u001b[0m     \u001b[38;5;28;01mreturn\u001b[39;00m ds\n",
      "File \u001b[1;32m~\\anaconda3\\envs\\dissenv\\lib\\contextlib.py:135\u001b[0m, in \u001b[0;36m_GeneratorContextManager.__enter__\u001b[1;34m(self)\u001b[0m\n\u001b[0;32m    133\u001b[0m \u001b[38;5;28;01mdel\u001b[39;00m \u001b[38;5;28mself\u001b[39m\u001b[38;5;241m.\u001b[39margs, \u001b[38;5;28mself\u001b[39m\u001b[38;5;241m.\u001b[39mkwds, \u001b[38;5;28mself\u001b[39m\u001b[38;5;241m.\u001b[39mfunc\n\u001b[0;32m    134\u001b[0m \u001b[38;5;28;01mtry\u001b[39;00m:\n\u001b[1;32m--> 135\u001b[0m     \u001b[38;5;28;01mreturn\u001b[39;00m \u001b[38;5;28;43mnext\u001b[39;49m\u001b[43m(\u001b[49m\u001b[38;5;28;43mself\u001b[39;49m\u001b[38;5;241;43m.\u001b[39;49m\u001b[43mgen\u001b[49m\u001b[43m)\u001b[49m\n\u001b[0;32m    136\u001b[0m \u001b[38;5;28;01mexcept\u001b[39;00m \u001b[38;5;167;01mStopIteration\u001b[39;00m:\n\u001b[0;32m    137\u001b[0m     \u001b[38;5;28;01mraise\u001b[39;00m \u001b[38;5;167;01mRuntimeError\u001b[39;00m(\u001b[38;5;124m\"\u001b[39m\u001b[38;5;124mgenerator didn\u001b[39m\u001b[38;5;124m'\u001b[39m\u001b[38;5;124mt yield\u001b[39m\u001b[38;5;124m\"\u001b[39m) \u001b[38;5;28;01mfrom\u001b[39;00m \u001b[38;5;28mNone\u001b[39m\n",
      "File \u001b[1;32m~\\anaconda3\\envs\\dissenv\\lib\\site-packages\\xarray\\backends\\file_manager.py:187\u001b[0m, in \u001b[0;36mCachingFileManager.acquire_context\u001b[1;34m(self, needs_lock)\u001b[0m\n\u001b[0;32m    184\u001b[0m \u001b[38;5;129m@contextlib\u001b[39m\u001b[38;5;241m.\u001b[39mcontextmanager\n\u001b[0;32m    185\u001b[0m \u001b[38;5;28;01mdef\u001b[39;00m \u001b[38;5;21macquire_context\u001b[39m(\u001b[38;5;28mself\u001b[39m, needs_lock\u001b[38;5;241m=\u001b[39m\u001b[38;5;28;01mTrue\u001b[39;00m):\n\u001b[0;32m    186\u001b[0m     \u001b[38;5;124;03m\"\"\"Context manager for acquiring a file.\"\"\"\u001b[39;00m\n\u001b[1;32m--> 187\u001b[0m     file, cached \u001b[38;5;241m=\u001b[39m \u001b[38;5;28;43mself\u001b[39;49m\u001b[38;5;241;43m.\u001b[39;49m\u001b[43m_acquire_with_cache_info\u001b[49m\u001b[43m(\u001b[49m\u001b[43mneeds_lock\u001b[49m\u001b[43m)\u001b[49m\n\u001b[0;32m    188\u001b[0m     \u001b[38;5;28;01mtry\u001b[39;00m:\n\u001b[0;32m    189\u001b[0m         \u001b[38;5;28;01myield\u001b[39;00m file\n",
      "File \u001b[1;32m~\\anaconda3\\envs\\dissenv\\lib\\site-packages\\xarray\\backends\\file_manager.py:205\u001b[0m, in \u001b[0;36mCachingFileManager._acquire_with_cache_info\u001b[1;34m(self, needs_lock)\u001b[0m\n\u001b[0;32m    203\u001b[0m     kwargs \u001b[38;5;241m=\u001b[39m kwargs\u001b[38;5;241m.\u001b[39mcopy()\n\u001b[0;32m    204\u001b[0m     kwargs[\u001b[38;5;124m\"\u001b[39m\u001b[38;5;124mmode\u001b[39m\u001b[38;5;124m\"\u001b[39m] \u001b[38;5;241m=\u001b[39m \u001b[38;5;28mself\u001b[39m\u001b[38;5;241m.\u001b[39m_mode\n\u001b[1;32m--> 205\u001b[0m file \u001b[38;5;241m=\u001b[39m \u001b[38;5;28mself\u001b[39m\u001b[38;5;241m.\u001b[39m_opener(\u001b[38;5;241m*\u001b[39m\u001b[38;5;28mself\u001b[39m\u001b[38;5;241m.\u001b[39m_args, \u001b[38;5;241m*\u001b[39m\u001b[38;5;241m*\u001b[39mkwargs)\n\u001b[0;32m    206\u001b[0m \u001b[38;5;28;01mif\u001b[39;00m \u001b[38;5;28mself\u001b[39m\u001b[38;5;241m.\u001b[39m_mode \u001b[38;5;241m==\u001b[39m \u001b[38;5;124m\"\u001b[39m\u001b[38;5;124mw\u001b[39m\u001b[38;5;124m\"\u001b[39m:\n\u001b[0;32m    207\u001b[0m     \u001b[38;5;66;03m# ensure file doesn't get overriden when opened again\u001b[39;00m\n\u001b[0;32m    208\u001b[0m     \u001b[38;5;28mself\u001b[39m\u001b[38;5;241m.\u001b[39m_mode \u001b[38;5;241m=\u001b[39m \u001b[38;5;124m\"\u001b[39m\u001b[38;5;124ma\u001b[39m\u001b[38;5;124m\"\u001b[39m\n",
      "File \u001b[1;32msrc\\netCDF4\\_netCDF4.pyx:2307\u001b[0m, in \u001b[0;36mnetCDF4._netCDF4.Dataset.__init__\u001b[1;34m()\u001b[0m\n",
      "File \u001b[1;32msrc\\netCDF4\\_netCDF4.pyx:1925\u001b[0m, in \u001b[0;36mnetCDF4._netCDF4._ensure_nc_success\u001b[1;34m()\u001b[0m\n",
      "\u001b[1;31mOSError\u001b[0m: [Errno -101] NetCDF: HDF error: b'D:\\\\Diss\\\\Data\\\\2016 Sample Data\\\\v10m.KNMI-2016.XPEN055.ERA5-3H_RACMO2.3p2.3H.nc'"
     ]
    }
   ],
   "source": [
    "rd_2016=xr.open_dataset(read_file_paths(file2016)) \n",
    "rd_2021=xr.open_dataset(read_file_paths(file2021)) \n",
    "antarctica_shape = gpd.read_file(read_file_paths(shape_name))"
   ]
  },
  {
   "cell_type": "code",
   "execution_count": null,
   "id": "f0db006e",
   "metadata": {},
   "outputs": [],
   "source": [
    "data_crs=CRS('-m 57.295779506 +proj=ob_tran +o_proj=latlon +o_lat_p=-180.0 +lon_0=30.0 +o_lon_p=0')\n",
    "from_lat_lon_crs = CRS.from_proj4(\"+proj=latlon\")\n",
    "transproj = Transformer.from_crs(from_lat_lon_crs, data_crs)\n",
    "\n",
    "y_lim = (-75,-66) # latitude \n",
    "x_lim = (-78,-65) #longitude"
   ]
  },
  {
   "cell_type": "code",
   "execution_count": null,
   "id": "f058b7d1",
   "metadata": {
    "scrolled": true
   },
   "outputs": [],
   "source": [
    "rd_2021"
   ]
  },
  {
   "cell_type": "code",
   "execution_count": null,
   "id": "9132fa00",
   "metadata": {},
   "outputs": [],
   "source": [
    "within_bounds=plot_nearby_ice_shelves(antarctica_shape,x_lim,y_lim)\n",
    "gviis_mask=one_ice_shelf_only_mask(within_bounds,0)\n",
    "rotated_mask=ice_shelf_mask_rotate(gviis_mask,data_crs)\n",
    "\n",
    "rd_2016=reduce_spatial_data(rd_2016,x_lim,y_lim,[1, 2, 3, 10, 11, 12])\n",
    "rd_2016=rd_2016[['v10m']]\n",
    "\n",
    "rd_2021=reduce_spatial_data(rd_2021,x_lim,y_lim,[1, 2, 3, 10, 11, 12])\n",
    "rd_2021=rd_2021[['v10m']]"
   ]
  },
  {
   "cell_type": "code",
   "execution_count": null,
   "id": "c4e50f05",
   "metadata": {},
   "outputs": [],
   "source": [
    "rd_2016=mask_data(rd_2016)\n",
    "rd_2021=mask_data(rd_2021)"
   ]
  },
  {
   "cell_type": "code",
   "execution_count": null,
   "id": "4cef9007",
   "metadata": {},
   "outputs": [],
   "source": [
    "v10m_data = xr.concat([rd_2016, rd_2021],'time')"
   ]
  },
  {
   "cell_type": "code",
   "execution_count": null,
   "id": "0f309959",
   "metadata": {
    "scrolled": true
   },
   "outputs": [],
   "source": [
    "v10m_data"
   ]
  },
  {
   "cell_type": "code",
   "execution_count": null,
   "id": "41cc2eb7",
   "metadata": {
    "scrolled": true
   },
   "outputs": [],
   "source": [
    "faceW = 79 #number of pixels in image width\n",
    "faceH = 46 #number of pixels i|n image height\n",
    "first_map = np.reshape(np.asarray(v10m_data.v10m.isel(time=1).values),(faceH,faceW)).T\n",
    "plt.imshow(first_map)\n",
    "plt.show()"
   ]
  },
  {
   "cell_type": "code",
   "execution_count": null,
   "id": "83ad01b9",
   "metadata": {},
   "outputs": [],
   "source": [
    "filename=v10m_data.attrs['title']+'.nc'\n",
    "this_dir=Path.cwd()\n",
    "out_path=this_dir.parent/Path(\"Data/Cleaned and masked NETCDF files\"+'/'+filename)"
   ]
  },
  {
   "cell_type": "code",
   "execution_count": null,
   "id": "be536d0e",
   "metadata": {},
   "outputs": [],
   "source": [
    "v10m_data.v10m.attrs"
   ]
  },
  {
   "cell_type": "code",
   "execution_count": null,
   "id": "8cc145ed",
   "metadata": {},
   "outputs": [],
   "source": [
    "del v10m_data.v10m.attrs['grid_mapping']\n",
    "v10m_data.to_netcdf(out_path)"
   ]
  },
  {
   "cell_type": "code",
   "execution_count": null,
   "id": "fbe210eb",
   "metadata": {},
   "outputs": [],
   "source": []
  }
 ],
 "metadata": {
  "kernelspec": {
   "display_name": "dissenv",
   "language": "python",
   "name": "dissenv"
  },
  "language_info": {
   "codemirror_mode": {
    "name": "ipython",
    "version": 3
   },
   "file_extension": ".py",
   "mimetype": "text/x-python",
   "name": "python",
   "nbconvert_exporter": "python",
   "pygments_lexer": "ipython3",
   "version": "3.10.4"
  }
 },
 "nbformat": 4,
 "nbformat_minor": 5
}
